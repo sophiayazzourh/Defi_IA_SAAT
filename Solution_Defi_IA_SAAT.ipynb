{
 "cells": [
  {
   "cell_type": "markdown",
   "metadata": {},
   "source": [
    "# Défi IA, solution proposée par la team SAAT"
   ]
  },
  {
   "cell_type": "markdown",
   "metadata": {},
   "source": [
    "SAAT, équipe de l'INSA Toulouse composée de Vu Nam Anh LE, Aimée SIMCIC--MORI, Thanh Tin VO & Sophia YAZZOURH. "
   ]
  },
  {
   "cell_type": "markdown",
   "metadata": {},
   "source": [
    "Cette année, nous avons eu l’opportunité de participer au concours Defi-IA 2021sur Kaggle, organisé par plusieurs écoles, notamment l’INSA Toulouse. L’objectif de ce défi est de créer un algorithme qui attribue la bonne catégorie des métiers à une descriptiond’un emploi. Cela revient donc à faire une classification multi-classe parmi 28 catégories d’emploi.\n",
    "\n",
    "Les données ont été récupérées de CommonCrawl, qui a été utilisé pour entraîner le modèle GPT-3. Les données sont donc représentatives de ce qui peuvent être trouvés sur Internet en anglais parlé. Par conséquent, elles contiennent naturellement des biais de langage, de la discrimination. L’enjeu de ce concours est donc de développer un algorithme qui est à la fois précis, mais aussi juste sur les erreurs de classifications homme/femme.\n",
    "\n",
    "Ici, on trouvera la solution proposée par l'équipé SAAT. Le développement sera découpée en deux parties : tout d'abord le pre-processing appliqué au données, puis l'algorithme de classification choisi. "
   ]
  },
  {
   "cell_type": "markdown",
   "metadata": {},
   "source": [
    "# 1. Importation des librairies, données & scripts "
   ]
  },
  {
   "cell_type": "markdown",
   "metadata": {},
   "source": [
    "## 1.1 Librairies"
   ]
  },
  {
   "cell_type": "code",
   "execution_count": 60,
   "metadata": {},
   "outputs": [],
   "source": [
    "import pandas as pd\n",
    "import numpy as np\n",
    "import os\n",
    "import time\n",
    "import pickle\n",
    "import warnings\n",
    "warnings.filterwarnings(\"ignore\")\n",
    "import sklearn.metrics as smet\n",
    "import sklearn.model_selection as sms"
   ]
  },
  {
   "cell_type": "markdown",
   "metadata": {},
   "source": [
    "## 1.2 Scripts "
   ]
  },
  {
   "cell_type": "code",
   "execution_count": 49,
   "metadata": {},
   "outputs": [],
   "source": [
    "import sys\n",
    "sys.path.append('./scripts')\n",
    "import Cleaning as ct\n",
    "import Vectorization as Vecto \n",
    "import Learning as RL"
   ]
  },
  {
   "cell_type": "markdown",
   "metadata": {},
   "source": [
    "## 1.3 Données"
   ]
  },
  {
   "cell_type": "code",
   "execution_count": 50,
   "metadata": {},
   "outputs": [],
   "source": [
    "DATA_PATH = \"./data\"\n",
    "train_df = pd.read_json(DATA_PATH+\"/train.json\") # Training data \n",
    "test_df = pd.read_json(DATA_PATH+\"/test.json\") # Testing data \n",
    "names = pd.read_csv(DATA_PATH+ '/categories_string.csv')['0'].to_dict()\n",
    "jobs = pd.read_csv(DATA_PATH+'/train_label.csv', index_col='Id')['Category']\n",
    "jobs = jobs.map(names)\n",
    "jobs = jobs.rename('job') # The jobs of trainging data\n",
    "genders = pd.read_json(DATA_PATH+'/train.json').set_index('Id')['gender']\n",
    "# genders of the people in training data\n",
    "train_label = pd.read_csv(DATA_PATH+\"/train_label.csv\") # the jobs numbered from 1 to 28"
   ]
  },
  {
   "cell_type": "markdown",
   "metadata": {},
   "source": [
    "# 2. Pre-processing "
   ]
  },
  {
   "cell_type": "markdown",
   "metadata": {},
   "source": [
    "## 2.1 Minuscules"
   ]
  },
  {
   "cell_type": "code",
   "execution_count": 51,
   "metadata": {},
   "outputs": [],
   "source": [
    "train_df[\"description_lower\"] = [x.lower() for x in train_df.description]\n",
    "test_df[\"description_lower\"] = [x.lower() for x in test_df.description]"
   ]
  },
  {
   "cell_type": "markdown",
   "metadata": {},
   "source": [
    "## 2.2 Cleaning "
   ]
  },
  {
   "cell_type": "code",
   "execution_count": 52,
   "metadata": {},
   "outputs": [
    {
     "name": "stderr",
     "output_type": "stream",
     "text": [
      "100%|██████████| 217197/217197 [05:49<00:00, 622.13it/s]\n"
     ]
    },
    {
     "data": {
      "text/html": [
       "<div>\n",
       "<style scoped>\n",
       "    .dataframe tbody tr th:only-of-type {\n",
       "        vertical-align: middle;\n",
       "    }\n",
       "\n",
       "    .dataframe tbody tr th {\n",
       "        vertical-align: top;\n",
       "    }\n",
       "\n",
       "    .dataframe thead th {\n",
       "        text-align: right;\n",
       "    }\n",
       "</style>\n",
       "<table border=\"1\" class=\"dataframe\">\n",
       "  <thead>\n",
       "    <tr style=\"text-align: right;\">\n",
       "      <th></th>\n",
       "      <th>description_lower</th>\n",
       "      <th>description_cleaned</th>\n",
       "    </tr>\n",
       "  </thead>\n",
       "  <tbody>\n",
       "    <tr>\n",
       "      <th>0</th>\n",
       "      <td>she is also a ronald d. asmus policy entrepre...</td>\n",
       "      <td>she is also ronald asmus policy entrepreneur f...</td>\n",
       "    </tr>\n",
       "    <tr>\n",
       "      <th>1</th>\n",
       "      <td>he is a member of the aicpa and wicpa. brent ...</td>\n",
       "      <td>he is memb of the aicp and wicp brent graduate...</td>\n",
       "    </tr>\n",
       "    <tr>\n",
       "      <th>2</th>\n",
       "      <td>dr. aster has held teaching and research posi...</td>\n",
       "      <td>dr aster has held teaching and research posit ...</td>\n",
       "    </tr>\n",
       "    <tr>\n",
       "      <th>4</th>\n",
       "      <td>he runs a boutique design studio attending cl...</td>\n",
       "      <td>he run boutiqu design studio attending client ...</td>\n",
       "    </tr>\n",
       "    <tr>\n",
       "      <th>5</th>\n",
       "      <td>he focuses on cloud security, identity and ac...</td>\n",
       "      <td>he focus cloud security identity and access ma...</td>\n",
       "    </tr>\n",
       "    <tr>\n",
       "      <th>...</th>\n",
       "      <td>...</td>\n",
       "      <td>...</td>\n",
       "    </tr>\n",
       "    <tr>\n",
       "      <th>271492</th>\n",
       "      <td>a member of the uwa cultural collections boar...</td>\n",
       "      <td>memb of the uwa cultural collect board gary wa...</td>\n",
       "    </tr>\n",
       "    <tr>\n",
       "      <th>271493</th>\n",
       "      <td>kelly has worked globally leading teams of co...</td>\n",
       "      <td>kelly has worked globally leading team of cons...</td>\n",
       "    </tr>\n",
       "    <tr>\n",
       "      <th>271494</th>\n",
       "      <td>he's the lead author of a recent study that f...</td>\n",
       "      <td>he the lead author of recent study that found ...</td>\n",
       "    </tr>\n",
       "    <tr>\n",
       "      <th>271495</th>\n",
       "      <td>she specializes in the theoretical and pedago...</td>\n",
       "      <td>she specializ in the theoretical and pedagogic...</td>\n",
       "    </tr>\n",
       "    <tr>\n",
       "      <th>271496</th>\n",
       "      <td>since she was 10 years old she has become a m...</td>\n",
       "      <td>sinc she was year old she has becom model lat ...</td>\n",
       "    </tr>\n",
       "  </tbody>\n",
       "</table>\n",
       "<p>217197 rows × 2 columns</p>\n",
       "</div>"
      ],
      "text/plain": [
       "                                        description_lower  \\\n",
       "0        she is also a ronald d. asmus policy entrepre...   \n",
       "1        he is a member of the aicpa and wicpa. brent ...   \n",
       "2        dr. aster has held teaching and research posi...   \n",
       "4        he runs a boutique design studio attending cl...   \n",
       "5        he focuses on cloud security, identity and ac...   \n",
       "...                                                   ...   \n",
       "271492   a member of the uwa cultural collections boar...   \n",
       "271493   kelly has worked globally leading teams of co...   \n",
       "271494   he's the lead author of a recent study that f...   \n",
       "271495   she specializes in the theoretical and pedago...   \n",
       "271496   since she was 10 years old she has become a m...   \n",
       "\n",
       "                                      description_cleaned  \n",
       "0       she is also ronald asmus policy entrepreneur f...  \n",
       "1       he is memb of the aicp and wicp brent graduate...  \n",
       "2       dr aster has held teaching and research posit ...  \n",
       "4       he run boutiqu design studio attending client ...  \n",
       "5       he focus cloud security identity and access ma...  \n",
       "...                                                   ...  \n",
       "271492  memb of the uwa cultural collect board gary wa...  \n",
       "271493  kelly has worked globally leading team of cons...  \n",
       "271494  he the lead author of recent study that found ...  \n",
       "271495  she specializ in the theoretical and pedagogic...  \n",
       "271496  sinc she was year old she has becom model lat ...  \n",
       "\n",
       "[217197 rows x 2 columns]"
      ]
     },
     "execution_count": 52,
     "metadata": {},
     "output_type": "execute_result"
    }
   ],
   "source": [
    "ct.clean_df_column(train_df, \"description_lower\", \"description_cleaned\")\n",
    "train_df[[\"description_lower\", \"description_cleaned\"]] # Cleaning lower description in the train data"
   ]
  },
  {
   "cell_type": "code",
   "execution_count": 53,
   "metadata": {},
   "outputs": [
    {
     "name": "stderr",
     "output_type": "stream",
     "text": [
      "100%|██████████| 54300/54300 [01:23<00:00, 648.34it/s]\n"
     ]
    },
    {
     "data": {
      "text/html": [
       "<div>\n",
       "<style scoped>\n",
       "    .dataframe tbody tr th:only-of-type {\n",
       "        vertical-align: middle;\n",
       "    }\n",
       "\n",
       "    .dataframe tbody tr th {\n",
       "        vertical-align: top;\n",
       "    }\n",
       "\n",
       "    .dataframe thead th {\n",
       "        text-align: right;\n",
       "    }\n",
       "</style>\n",
       "<table border=\"1\" class=\"dataframe\">\n",
       "  <thead>\n",
       "    <tr style=\"text-align: right;\">\n",
       "      <th></th>\n",
       "      <th>description_lower</th>\n",
       "      <th>description_cleaned</th>\n",
       "    </tr>\n",
       "  </thead>\n",
       "  <tbody>\n",
       "    <tr>\n",
       "      <th>3</th>\n",
       "      <td>she currently works on cnn’s newest primetime...</td>\n",
       "      <td>she currently work cnn newest primetim show pa...</td>\n",
       "    </tr>\n",
       "    <tr>\n",
       "      <th>6</th>\n",
       "      <td>lavalette’s photographs have been shown widel...</td>\n",
       "      <td>lavalet photograph hav been shown widely and h...</td>\n",
       "    </tr>\n",
       "    <tr>\n",
       "      <th>11</th>\n",
       "      <td>along with his academic and professional deve...</td>\n",
       "      <td>along with his academic and professional devel...</td>\n",
       "    </tr>\n",
       "    <tr>\n",
       "      <th>17</th>\n",
       "      <td>she obtained her ph.d. in islamic studies at ...</td>\n",
       "      <td>she obtained her ph in islamic stud at duk uni...</td>\n",
       "    </tr>\n",
       "    <tr>\n",
       "      <th>18</th>\n",
       "      <td>she studies issues of women and islam and has...</td>\n",
       "      <td>she stud issu of women and islam and has writt...</td>\n",
       "    </tr>\n",
       "    <tr>\n",
       "      <th>...</th>\n",
       "      <td>...</td>\n",
       "      <td>...</td>\n",
       "    </tr>\n",
       "    <tr>\n",
       "      <th>271476</th>\n",
       "      <td>prior to that, she worked as a research staff...</td>\n",
       "      <td>prior to that she worked research staff memb a...</td>\n",
       "    </tr>\n",
       "    <tr>\n",
       "      <th>271477</th>\n",
       "      <td>the group’s antics began when they switched t...</td>\n",
       "      <td>the group antic began when they switched the v...</td>\n",
       "    </tr>\n",
       "    <tr>\n",
       "      <th>271482</th>\n",
       "      <td>formerly, she was the coordinator for music e...</td>\n",
       "      <td>formerly she was the coordinator for music edu...</td>\n",
       "    </tr>\n",
       "    <tr>\n",
       "      <th>271485</th>\n",
       "      <td>she started her law practice at morris mannin...</td>\n",
       "      <td>she started her law practic at morr manning ma...</td>\n",
       "    </tr>\n",
       "    <tr>\n",
       "      <th>271486</th>\n",
       "      <td>since 1995, he works as a programme maker and...</td>\n",
       "      <td>sinc he work programm mak and artistic advisor...</td>\n",
       "    </tr>\n",
       "  </tbody>\n",
       "</table>\n",
       "<p>54300 rows × 2 columns</p>\n",
       "</div>"
      ],
      "text/plain": [
       "                                        description_lower  \\\n",
       "3        she currently works on cnn’s newest primetime...   \n",
       "6        lavalette’s photographs have been shown widel...   \n",
       "11       along with his academic and professional deve...   \n",
       "17       she obtained her ph.d. in islamic studies at ...   \n",
       "18       she studies issues of women and islam and has...   \n",
       "...                                                   ...   \n",
       "271476   prior to that, she worked as a research staff...   \n",
       "271477   the group’s antics began when they switched t...   \n",
       "271482   formerly, she was the coordinator for music e...   \n",
       "271485   she started her law practice at morris mannin...   \n",
       "271486   since 1995, he works as a programme maker and...   \n",
       "\n",
       "                                      description_cleaned  \n",
       "3       she currently work cnn newest primetim show pa...  \n",
       "6       lavalet photograph hav been shown widely and h...  \n",
       "11      along with his academic and professional devel...  \n",
       "17      she obtained her ph in islamic stud at duk uni...  \n",
       "18      she stud issu of women and islam and has writt...  \n",
       "...                                                   ...  \n",
       "271476  prior to that she worked research staff memb a...  \n",
       "271477  the group antic began when they switched the v...  \n",
       "271482  formerly she was the coordinator for music edu...  \n",
       "271485  she started her law practic at morr manning ma...  \n",
       "271486  sinc he work programm mak and artistic advisor...  \n",
       "\n",
       "[54300 rows x 2 columns]"
      ]
     },
     "execution_count": 53,
     "metadata": {},
     "output_type": "execute_result"
    }
   ],
   "source": [
    "ct.clean_df_column(test_df, \"description\", \"description_cleaned\")\n",
    "test_df[[\"description_lower\", \"description_cleaned\"]] # Cleaning lower description in the test data"
   ]
  },
  {
   "cell_type": "markdown",
   "metadata": {},
   "source": [
    "## 2.3 Vectorization by TFidf"
   ]
  },
  {
   "cell_type": "code",
   "execution_count": 54,
   "metadata": {},
   "outputs": [],
   "source": [
    "X_test= test_df # Test data\n",
    "X= train_df # Data to train and create the best model\n",
    "y= train_label.Category.values # The reponse of the train data\n",
    "X_train, X_valid, y_train, y_valid = sms.train_test_split(X, y, test_size=0.2, random_state=1)\n",
    "# Devide the train data and reponse to the train and valid (X,y) (data,reponse) which helps us\n",
    "# find out the best model"
   ]
  },
  {
   "cell_type": "code",
   "execution_count": 55,
   "metadata": {},
   "outputs": [
    {
     "name": "stdout",
     "output_type": "stream",
     "text": [
      "nb_hash : None, vectorizer_type : count\n",
      "Runing time for vectorization : 13.0 seconds\n",
      "Test shape : (54300, 158749)\n",
      "Train shape : (173757, 158749)\n",
      "Valid shape : (43440, 158749)\n",
      "nb_hash : 10000, vectorizer_type : count\n",
      "Runing time for vectorization : 7.4 seconds\n",
      "Test shape : (54300, 10000)\n",
      "Train shape : (173757, 10000)\n",
      "Valid shape : (43440, 10000)\n",
      "nb_hash : None, vectorizer_type : tfidf\n",
      "Runing time for vectorization : 12.2 seconds\n",
      "Test shape : (54300, 158749)\n",
      "Train shape : (173757, 158749)\n",
      "Valid shape : (43440, 158749)\n",
      "nb_hash : 10000, vectorizer_type : tfidf\n",
      "Runing time for vectorization : 7.3 seconds\n",
      "Test shape : (54300, 10000)\n",
      "Train shape : (173757, 10000)\n",
      "Valid shape : (43440, 10000)\n"
     ]
    }
   ],
   "source": [
    "features_parameters = [[None, \"count\"],\n",
    "                      [10000, \"count\"],\n",
    "                      [None, \"tfidf\"],\n",
    "                      [10000, \"tfidf\"],]\n",
    "\n",
    "# One-Hot-Encoding is the simplest vectorization method which is represented by \"count\"\n",
    "# TF-IDF is more complicated method which is represented by \"tfidf\"\n",
    "\n",
    "metadata = {}\n",
    "for nb_hash, vectorizer_type in features_parameters:\n",
    "    vect_method = Vecto.Vectorizer(vectorizer_type = vectorizer_type, nb_hash = nb_hash )\n",
    "    ts = time.time()\n",
    "    vec, feathash, X_train_vec = vect_method.vectorizer_train(X_train, columns = \"description_cleaned\")\n",
    "    X_valid_vec = vect_method.apply_vectorizer(X_valid, columns = \"description_cleaned\", vec = vec, feathash = feathash)\n",
    "    X_test_vec = vect_method.apply_vectorizer(X_test, columns = \"description_cleaned\", vec = vec, feathash = feathash)\n",
    "    \n",
    "    te = time.time()\n",
    "    \n",
    "    metadata.update({(nb_hash, vectorizer_type):te-ts})\n",
    "    \n",
    "    print(\"nb_hash : \" + str(nb_hash) + \", vectorizer_type : \" + str(vectorizer_type))\n",
    "    print(\"Runing time for vectorization : %.1f seconds\" %( metadata[(nb_hash, vectorizer_type)]))\n",
    "    print(\"Test shape : \" + str(X_test_vec.shape))\n",
    "    print(\"Train shape : \" + str(X_train_vec.shape))\n",
    "    print(\"Valid shape : \" + str(X_valid_vec.shape))\n",
    "\n",
    "    vect_method.save_dataframe(X_test_vec, \"test\") # Vectorized X_test\n",
    "    vect_method.save_dataframe(X_train_vec, \"train\") # Vectorized X_train\n",
    "    vect_method.save_dataframe(X_valid_vec, \"valid\") # Vectorized X_valid\n",
    "    "
   ]
  },
  {
   "cell_type": "markdown",
   "metadata": {},
   "source": [
    "# 3. Régression Logistique"
   ]
  },
  {
   "cell_type": "markdown",
   "metadata": {},
   "source": [
    "## 3.1 Training "
   ]
  },
  {
   "cell_type": "code",
   "execution_count": 56,
   "metadata": {},
   "outputs": [
    {
     "name": "stdout",
     "output_type": "stream",
     "text": [
      "None tfidf\n"
     ]
    },
    {
     "name": "stderr",
     "output_type": "stream",
     "text": [
      "100%|██████████| 3/3 [06:03<00:00, 121.30s/it]\n"
     ]
    },
    {
     "name": "stdout",
     "output_type": "stream",
     "text": [
      "Best model's parameters : {'C': 1, 'n_jobs': -1}\n"
     ]
    }
   ],
   "source": [
    "FORCE_TO_RUN = True\n",
    "features_parameters = [[None, \"tfidf\"]] # Using the TF-IDF (the more complicated method)\n",
    "\n",
    "model_parameters = [[\"lr\", {\"C\":[0.1, 1, 10]}]]\n",
    "\n",
    "if FORCE_TO_RUN:\n",
    "    metadata = {}\n",
    "    for nb_hash, vectorizer_type in features_parameters:\n",
    "        print(nb_hash, vectorizer_type)\n",
    "        vect_method = Vecto.Vectorizer(vectorizer_type = vectorizer_type, nb_hash = nb_hash )\n",
    "        X_train = vect_method.load_dataframe(\"train\")\n",
    "        Y_train = y_train\n",
    "        X_valid = vect_method.load_dataframe(\"valid\")\n",
    "        Y_valid = y_valid\n",
    "\n",
    "        for ml_model_name, param_grid in model_parameters:\n",
    "            ml_class = RL.MlModel(ml_model_name=ml_model_name, param_grid=param_grid)\n",
    "            best_model, best_metadata = ml_class.train_all_parameters(X_train, Y_train, X_valid, Y_valid\n",
    "                                                                      , save_metadata=False)\n",
    "            accuracy_test = best_model.score(X_valid, Y_valid)\n",
    "            f1_macro_score_test = smet.f1_score(best_model.predict(X_valid),Y_valid, average='macro')\n",
    "            balanced_accuracy_test = smet.balanced_accuracy_score(best_model.predict(X_valid),Y_valid)\n",
    "            best_metadata.update({\"balanced_accuracy_test\":balanced_accuracy_test,\"accuracy_test\": accuracy_test, \"f1_macro_score_test\":f1_macro_score_test})\n",
    "            metadata.update({(vectorizer_type, str(nb_hash), ml_model_name): best_metadata})"
   ]
  },
  {
   "cell_type": "markdown",
   "metadata": {},
   "source": [
    "## 3.2 Prediction"
   ]
  },
  {
   "cell_type": "code",
   "execution_count": 57,
   "metadata": {},
   "outputs": [],
   "source": [
    "X_test = vect_method.load_dataframe(\"test\") # Loading the test data\n",
    "y_pred = best_model.predict(X_test) # Predicting the response"
   ]
  },
  {
   "cell_type": "markdown",
   "metadata": {},
   "source": [
    "# 4. Génération des résultats pour Kaggle"
   ]
  },
  {
   "cell_type": "code",
   "execution_count": 58,
   "metadata": {},
   "outputs": [],
   "source": [
    "test_df[\"Category\"] = y_pred\n",
    "baseline_file = test_df[[\"Id\",\"Category\"]]\n",
    "if os.path.isdir('./results') == False:\n",
    "    os.mkdir(\"./results\")\n",
    "\n",
    "baseline_file.to_csv(\"./results/baseline.csv\", index=False)"
   ]
  }
 ],
 "metadata": {
  "kernelspec": {
   "display_name": "Python 3",
   "language": "python",
   "name": "python3"
  },
  "language_info": {
   "codemirror_mode": {
    "name": "ipython",
    "version": 3
   },
   "file_extension": ".py",
   "mimetype": "text/x-python",
   "name": "python",
   "nbconvert_exporter": "python",
   "pygments_lexer": "ipython3",
   "version": "3.8.3"
  }
 },
 "nbformat": 4,
 "nbformat_minor": 4
}
