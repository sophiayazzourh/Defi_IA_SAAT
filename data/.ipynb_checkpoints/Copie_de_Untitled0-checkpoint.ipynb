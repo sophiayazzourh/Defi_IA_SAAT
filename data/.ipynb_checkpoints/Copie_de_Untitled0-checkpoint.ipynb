{
 "cells": [
  {
   "cell_type": "code",
   "execution_count": 1,
   "metadata": {
    "colab": {
     "base_uri": "https://localhost:8080/"
    },
    "id": "bRleYwxf47D5",
    "outputId": "b67f82e0-317d-413e-be18-a7db09173e30"
   },
   "outputs": [
    {
     "name": "stdout",
     "output_type": "stream",
     "text": [
      "Cloning into 'bert'...\n",
      "remote: Enumerating objects: 340, done.\u001b[K\n",
      "remote: Total 340 (delta 0), reused 0 (delta 0), pack-reused 340\u001b[K\n",
      "Receiving objects: 100% (340/340), 315.49 KiB | 1.03 MiB/s, done.\n",
      "Resolving deltas: 100% (185/185), done.\n"
     ]
    }
   ],
   "source": [
    "!git clone https://github.com/google-research/bert.git"
   ]
  },
  {
   "cell_type": "code",
   "execution_count": 2,
   "metadata": {
    "id": "gszLOkOY4-mY"
   },
   "outputs": [],
   "source": [
    "import tensorflow"
   ]
  },
  {
   "cell_type": "code",
   "execution_count": 3,
   "metadata": {
    "id": "Bm4ck2oO5yMA"
   },
   "outputs": [],
   "source": [
    "import pandas as pd\n",
    "import collections\n",
    "import numpy as np\n",
    "import pickle\n",
    "import functools\n",
    "from tqdm import tqdm\n",
    "\n",
    "import tensorflow.keras.models as km\n",
    "import tensorflow.keras.layers as kl\n",
    "\n",
    "import logging\n",
    "logging.getLogger('tensorflow').disabled = True\n",
    "\n",
    "\n",
    "import sklearn.model_selection as sms\n",
    "import gensim"
   ]
  },
  {
   "cell_type": "code",
   "execution_count": 4,
   "metadata": {
    "id": "4Mi2VrPl51mX"
   },
   "outputs": [],
   "source": [
    "import unicodedata \n",
    "import time\n",
    "import pandas as pd\n",
    "import numpy as np\n",
    "import random\n",
    "import nltk\n",
    "import re \n",
    "import collections\n",
    "import itertools\n",
    "import pickle\n",
    "import warnings\n",
    "\n",
    "import plotly.offline as pof\n",
    "import plotly.graph_objects as go\n",
    "warnings.filterwarnings(\"ignore\")\n",
    "import sklearn.metrics as smet\n",
    "\n",
    "import matplotlib.pyplot as plt\n",
    "import seaborn as sb\n",
    "from scipy import sparse\n",
    "sb.set_style(\"whitegrid\")\n",
    "\n",
    "import sklearn.model_selection as sms\n",
    "import pickle\n",
    "\n",
    "train_df = pd.read_json(\"train.json\")\n",
    "test_df = pd.read_json(\"test.json\")\n",
    "train_label = pd.read_csv(\"train_label.csv\")\n",
    "categories = pd.read_csv(\"categories_string.csv\")"
   ]
  },
  {
   "cell_type": "code",
   "execution_count": 5,
   "metadata": {
    "colab": {
     "base_uri": "https://localhost:8080/"
    },
    "id": "8bgALAUsDVUY",
    "outputId": "f5882217-1298-4eff-e5d9-b12b10e1d12b"
   },
   "outputs": [
    {
     "name": "stderr",
     "output_type": "stream",
     "text": [
      "[nltk_data] Downloading package stopwords to\n",
      "[nltk_data]     /Users/sophiayazzourh/nltk_data...\n",
      "[nltk_data]   Package stopwords is already up-to-date!\n"
     ]
    },
    {
     "data": {
      "text/plain": [
       "True"
      ]
     },
     "execution_count": 5,
     "metadata": {},
     "output_type": "execute_result"
    }
   ],
   "source": [
    "train_df[\"description_lower\"] = [x.lower() for x in train_df.description]\n",
    "test_df[\"description_lower\"] = [x.lower() for x in test_df.description]\n",
    "\n",
    "import nltk\n",
    "nltk.download(\"stopwords\")"
   ]
  },
  {
   "cell_type": "code",
   "execution_count": 6,
   "metadata": {
    "id": "UJETP86UDd1U"
   },
   "outputs": [],
   "source": [
    "import re\n",
    "import unicodedata\n",
    "import nltk\n",
    "from string import digits\n",
    "from bs4 import BeautifulSoup #Nettoyage d'HTML\n",
    "\n",
    "digits_list = digits\n",
    "\n",
    "\n",
    "class CleanText:\n",
    "\n",
    "    def __init__(self, apply_stemming=True):\n",
    "\n",
    "        french_stopwords = nltk.corpus.stopwords.words('french')\n",
    "        self.stopwords = [self.remove_accent(sw) for sw in french_stopwords]\n",
    "\n",
    "        self.stemmer = nltk.stem.SnowballStemmer('french')\n",
    "\n",
    "        self.apply_stemming = apply_stemming\n",
    "\n",
    "\n",
    "    @staticmethod\n",
    "    def remove_html_code(txt):\n",
    "        txt = BeautifulSoup(txt, \"html.parser\", from_encoding='utf-8').get_text()\n",
    "        return txt\n",
    "\n",
    "    @staticmethod\n",
    "    def convert_text_to_lower_case(txt):\n",
    "        return txt.lower()\n",
    "\n",
    "    @staticmethod\n",
    "    def remove_accent(txt):\n",
    "        return unicodedata.normalize('NFD', txt).encode('ascii', 'ignore').decode(\"utf-8\")\n",
    "\n",
    "    @staticmethod\n",
    "    def remove_non_letters(txt):\n",
    "        return re.sub('[^a-z_]', ' ', txt)\n",
    "\n",
    "    def remove_stopwords(self, txt):\n",
    "        return [w for w in txt.split() if (w not in self.stopwords)]\n",
    "\n",
    "    def get_stem(self, tokens):\n",
    "        return [self.stemmer.stem(token) for token in tokens]\n",
    "\n",
    "    def apply_all_transformation(self, txt):\n",
    "        #txt = self.remove_html_code(txt)\n",
    "        txt = self.convert_text_to_lower_case(txt)\n",
    "        txt = self.remove_accent(txt)\n",
    "        txt = self.remove_non_letters(txt)\n",
    "        tokens = self.remove_stopwords(txt)\n",
    "        if self.apply_stemming:\n",
    "            tokens = self.get_stem(tokens)\n",
    "        return tokens\n",
    "\n",
    "    def clean_df_column(self, df, column_name, clean_column_name):\n",
    "        nb_line = df.shape[0]\n",
    "        print(\"Start Clean %d lines\" % nb_line)\n",
    "        df[clean_column_name] =[ \" \".join(self.apply_all_transformation(x)) for x in tqdm(df[column_name].values)]"
   ]
  },
  {
   "cell_type": "code",
   "execution_count": null,
   "metadata": {
    "colab": {
     "background_save": true,
     "base_uri": "https://localhost:8080/"
    },
    "id": "p6PyqAMDDfEm",
    "outputId": "4dc563f3-db48-4291-a65f-2fd34fe1f488"
   },
   "outputs": [
    {
     "name": "stderr",
     "output_type": "stream",
     "text": [
      " 26%|██▌       | 55671/217197 [01:29<03:34, 752.47it/s]"
     ]
    }
   ],
   "source": [
    "ct = CleanText()\n",
    "def apply_all_transformation(txt):\n",
    "    #txt = ct.remove_html_code(txt)\n",
    "    txt = ct.convert_text_to_lower_case(txt)\n",
    "    #txt = ct.remove_accent(txt)\n",
    "    txt = ct.remove_non_letters(txt)\n",
    "    tokens = ct.remove_stopwords(txt)\n",
    "    tokens_stem = ct.get_stem(tokens)\n",
    "    return tokens_stem\n",
    "\n",
    "def clean_df_column(df, column_name, clean_column_name):\n",
    "    df[clean_column_name] = [\" \".join(apply_all_transformation(x)) for x in tqdm(df[column_name].values)]\n",
    "\n",
    "clean_df_column(train_df, \"description\", \"description_cleaned\")\n",
    "train_df[[\"description\", \"description_cleaned\"]]\n"
   ]
  },
  {
   "cell_type": "code",
   "execution_count": null,
   "metadata": {
    "colab": {
     "base_uri": "https://localhost:8080/",
     "height": 418
    },
    "id": "yJ3P2bH2xBVg",
    "outputId": "f893e0e8-9b3d-4f2d-8e21-486142cdeda1"
   },
   "outputs": [],
   "source": [
    "\n",
    "clean_df_column(test_df, \"description\", \"description_cleaned\")\n",
    "test_df[[\"description\", \"description_cleaned\"]]"
   ]
  },
  {
   "cell_type": "code",
   "execution_count": null,
   "metadata": {
    "id": "RWsfOsKftJA7"
   },
   "outputs": [],
   "source": [
    "y=train_label.Category.values\n",
    "X_test=test_df"
   ]
  },
  {
   "cell_type": "code",
   "execution_count": null,
   "metadata": {
    "colab": {
     "base_uri": "https://localhost:8080/"
    },
    "id": "hNYyhe7Ytp4p",
    "outputId": "65e2958a-ae92-40d6-d2a3-ee5f94e3fd0c"
   },
   "outputs": [],
   "source": [
    "from sklearn.model_selection import train_test_split\n",
    "\n",
    "X_train, X_valid,y_train,y_valid = train_test_split(train_df,y, test_size=0.20)\n",
    "\n",
    "print('train shape: ',X_train.shape)\n",
    "print('test shape: ',y_valid.shape)"
   ]
  },
  {
   "cell_type": "code",
   "execution_count": null,
   "metadata": {
    "colab": {
     "base_uri": "https://localhost:8080/"
    },
    "id": "JxMu30_Is73Z",
    "outputId": "fb5e41ee-ab99-439b-f041-d34d86343475"
   },
   "outputs": [],
   "source": [
    "# install simpletransformers\n",
    "!pip install simpletransformers\n",
    "\n",
    "# check installed version\n",
    "!pip freeze | grep simpletransformers\n",
    "# simpletransformers==0.28.2"
   ]
  },
  {
   "cell_type": "code",
   "execution_count": null,
   "metadata": {
    "colab": {
     "base_uri": "https://localhost:8080/"
    },
    "id": "sF6xekOpyenZ",
    "outputId": "001ca0a7-1427-413d-ae3a-40acaad4d889"
   },
   "outputs": [],
   "source": [
    "!pip install tensorflow\n",
    "!pip install torch==1.7.0+cu101 torchvision==0.6.0+cu101 -f https://download.pytorch.org/whl/torch_stable.html\n"
   ]
  },
  {
   "cell_type": "code",
   "execution_count": null,
   "metadata": {
    "colab": {
     "base_uri": "https://localhost:8080/"
    },
    "id": "LbQ7I43CzfVl",
    "outputId": "867dbe9d-63b2-4772-f26d-70d14c27c90a"
   },
   "outputs": [],
   "source": [
    "!nvcc --version\n",
    "! apt-get install cuda-drivers\n",
    "! sudo apt-get install nvidia-390\n",
    "\n"
   ]
  },
  {
   "cell_type": "code",
   "execution_count": null,
   "metadata": {
    "colab": {
     "base_uri": "https://localhost:8080/"
    },
    "id": "uEPuz75J1QoD",
    "outputId": "6490c727-8ebe-40db-c437-a13c87942f6a"
   },
   "outputs": [],
   "source": [
    "import torch\n",
    "!wget https://developer.nvidia.com/compute/cuda/9.2/Prod/local_installers/cuda-repo-ubuntu1604-9-2-local_9.2.88-1_amd64 -O cuda-repo-ubuntu1604-9-2-local_9.2.88-1_amd64.deb\n",
    "!dpkg -i cuda-repo-ubuntu1604-9-2-local_9.2.88-1_amd64.deb\n",
    "!apt-key add /var/cuda-repo-9-2-local/7fa2af80.pub\n",
    "!apt-get update\n",
    "\n",
    "!apt-get install cuda"
   ]
  },
  {
   "cell_type": "code",
   "execution_count": null,
   "metadata": {
    "colab": {
     "base_uri": "https://localhost:8080/"
    },
    "id": "or8JFcn69VAi",
    "outputId": "c9fbcf8d-b644-4e26-837c-b2eef0d68234"
   },
   "outputs": [],
   "source": [
    "!python -m pip install -U pip\n",
    "!python -m pip install -U matplotlib"
   ]
  },
  {
   "cell_type": "code",
   "execution_count": null,
   "metadata": {
    "id": "8x6kUxOB97QM"
   },
   "outputs": [],
   "source": [
    "#!pip install ipywidgets \n",
    "\n",
    "#In Jupyter Lab Notebook:\n",
    "from tqdm.gui import tqdm, trange"
   ]
  },
  {
   "cell_type": "code",
   "execution_count": null,
   "metadata": {
    "colab": {
     "base_uri": "https://localhost:8080/",
     "height": 423,
     "referenced_widgets": [
      "773bd9981da2410f8f16065d496edc23",
      "76766feef7b4439f905629af9fd3fb8f",
      "ca246ece09b84b41a46a5f03d948b0b3",
      "bb8fd9f32d324209b186efad5a19bd44",
      "88fc00e5fed240949c810c839bff49da",
      "097c4504e8a74181975f7f475890734c",
      "64fb1a995bc649749a8f6b44c06d1578",
      "675190f264754708a91db47dc5544081",
      "ea34d81bbbdb40b4846ce9f6b4fd36ca",
      "95f2405737134c7eb3dc3f73e75f49ff",
      "2b478833bae74def915eb5d21d0d15a6"
     ]
    },
    "id": "qFcJMtTGtAQ4",
    "outputId": "73374571-1e67-4c1f-c819-0669cb276b26"
   },
   "outputs": [],
   "source": [
    "from simpletransformers.classification import ClassificationModel\n",
    "\n",
    "# define hyperparameter\n",
    "train_args ={\"reprocess_input_data\": True,\n",
    "             \"overwrite_output_dir\": True,\n",
    "             \"fp16\":False,\n",
    "             \"num_train_epochs\": 4}\n",
    "# Create a ClassificationModel\n",
    "model = ClassificationModel(\n",
    "    \"bert\", \"distilbert-base-german-cased\",\n",
    "    num_labels=28,\n",
    "    args=train_args\n",
    ")"
   ]
  },
  {
   "cell_type": "code",
   "execution_count": null,
   "metadata": {
    "id": "L_lB5AYV1pqP"
   },
   "outputs": [],
   "source": []
  },
  {
   "cell_type": "code",
   "execution_count": null,
   "metadata": {
    "colab": {
     "base_uri": "https://localhost:8080/",
     "height": 423,
     "referenced_widgets": [
      "2baae9a5ff9a423c87f890ab5265dcc1",
      "f0495d522ef5433998c0a8a1f2059b8c",
      "1ad847fa245d4f46bdc77b8a1dea661e",
      "00e8682fbce24272b567151d703a969d",
      "f1d2ad786e8740aba9cda99d52181c2b",
      "66b1e72b76584f418bbc62bd201d08aa",
      "cc453a9521f546d994b59dc421b4bcf4",
      "97068be13ef44d77bd7bb46a29d2b819",
      "b61f8c4f8f47499aa6ccd776ddb47779",
      "408e3c6b5227400ebeb4f8082bf05837",
      "129f047d1a95472b98ac66dddf77e526"
     ]
    },
    "id": "JLXOIhYWvidn",
    "outputId": "8f255bf4-b8a4-4df9-a8f9-48587e09e011"
   },
   "outputs": [],
   "source": [
    "from simpletransformers.classification import ClassificationModel\n",
    "\n",
    "# define hyperparameter\n",
    "train_args ={\"reprocess_input_data\": True,\n",
    "             \"overwrite_output_dir\": True,\n",
    "             \"fp16\":False,\n",
    "             \"num_train_epochs\": 4}\n",
    "\n",
    "# Create a ClassificationModel\n",
    "model = ClassificationModel(\n",
    "    \"bert\", \"distilbert-base-german-cased\",\n",
    "    num_labels=28,\n",
    "    args=train_args\n",
    ")"
   ]
  },
  {
   "cell_type": "code",
   "execution_count": null,
   "metadata": {
    "colab": {
     "base_uri": "https://localhost:8080/",
     "height": 178
    },
    "id": "a1dPYAbOv1cC",
    "outputId": "5ac68bc2-1ca0-4929-9cee-423b02f968e0"
   },
   "outputs": [],
   "source": [
    "# Train the model\n",
    "model.train_model(X_train,y_train)"
   ]
  },
  {
   "cell_type": "code",
   "execution_count": null,
   "metadata": {
    "id": "T0xq8jrtzGEk"
   },
   "outputs": [],
   "source": [
    "from sklearn.metrics import f1_score, accuracy_score\n",
    "\n",
    "\n",
    "def f1_multiclass(labels, preds):\n",
    "    return f1_score(labels, preds, average='micro')\n",
    "    \n",
    "result, model_outputs, wrong_predictions = model.eval_model(X_valid,y_valid f1=f1_multiclass, acc=accuracy_score)\n",
    "\n",
    "result"
   ]
  },
  {
   "cell_type": "code",
   "execution_count": null,
   "metadata": {},
   "outputs": [],
   "source": []
  },
  {
   "cell_type": "code",
   "execution_count": null,
   "metadata": {},
   "outputs": [],
   "source": []
  }
 ],
 "metadata": {
  "accelerator": "GPU",
  "colab": {
   "collapsed_sections": [],
   "name": "Copie de Untitled0.ipynb",
   "provenance": [],
   "toc_visible": true
  },
  "kernelspec": {
   "display_name": "Python 3",
   "language": "python",
   "name": "python3"
  },
  "language_info": {
   "codemirror_mode": {
    "name": "ipython",
    "version": 3
   },
   "file_extension": ".py",
   "mimetype": "text/x-python",
   "name": "python",
   "nbconvert_exporter": "python",
   "pygments_lexer": "ipython3",
   "version": "3.8.3"
  },
  "widgets": {
   "application/vnd.jupyter.widget-state+json": {
    "00e8682fbce24272b567151d703a969d": {
     "model_module": "@jupyter-widgets/controls",
     "model_name": "HTMLModel",
     "state": {
      "_dom_classes": [],
      "_model_module": "@jupyter-widgets/controls",
      "_model_module_version": "1.5.0",
      "_model_name": "HTMLModel",
      "_view_count": null,
      "_view_module": "@jupyter-widgets/controls",
      "_view_module_version": "1.5.0",
      "_view_name": "HTMLView",
      "description": "",
      "description_tooltip": null,
      "layout": "IPY_MODEL_408e3c6b5227400ebeb4f8082bf05837",
      "placeholder": "​",
      "style": "IPY_MODEL_129f047d1a95472b98ac66dddf77e526",
      "value": " 3.66M/270M [00:00&lt;00:07, 36.6MB/s]"
     }
    },
    "097c4504e8a74181975f7f475890734c": {
     "model_module": "@jupyter-widgets/base",
     "model_name": "LayoutModel",
     "state": {
      "_model_module": "@jupyter-widgets/base",
      "_model_module_version": "1.2.0",
      "_model_name": "LayoutModel",
      "_view_count": null,
      "_view_module": "@jupyter-widgets/base",
      "_view_module_version": "1.2.0",
      "_view_name": "LayoutView",
      "align_content": null,
      "align_items": null,
      "align_self": null,
      "border": null,
      "bottom": null,
      "display": null,
      "flex": null,
      "flex_flow": null,
      "grid_area": null,
      "grid_auto_columns": null,
      "grid_auto_flow": null,
      "grid_auto_rows": null,
      "grid_column": null,
      "grid_gap": null,
      "grid_row": null,
      "grid_template_areas": null,
      "grid_template_columns": null,
      "grid_template_rows": null,
      "height": null,
      "justify_content": null,
      "justify_items": null,
      "left": null,
      "margin": null,
      "max_height": null,
      "max_width": null,
      "min_height": null,
      "min_width": null,
      "object_fit": null,
      "object_position": null,
      "order": null,
      "overflow": null,
      "overflow_x": null,
      "overflow_y": null,
      "padding": null,
      "right": null,
      "top": null,
      "visibility": null,
      "width": null
     }
    },
    "129f047d1a95472b98ac66dddf77e526": {
     "model_module": "@jupyter-widgets/controls",
     "model_name": "DescriptionStyleModel",
     "state": {
      "_model_module": "@jupyter-widgets/controls",
      "_model_module_version": "1.5.0",
      "_model_name": "DescriptionStyleModel",
      "_view_count": null,
      "_view_module": "@jupyter-widgets/base",
      "_view_module_version": "1.2.0",
      "_view_name": "StyleView",
      "description_width": ""
     }
    },
    "1ad847fa245d4f46bdc77b8a1dea661e": {
     "model_module": "@jupyter-widgets/controls",
     "model_name": "FloatProgressModel",
     "state": {
      "_dom_classes": [],
      "_model_module": "@jupyter-widgets/controls",
      "_model_module_version": "1.5.0",
      "_model_name": "FloatProgressModel",
      "_view_count": null,
      "_view_module": "@jupyter-widgets/controls",
      "_view_module_version": "1.5.0",
      "_view_name": "ProgressView",
      "bar_style": "danger",
      "description": "",
      "description_tooltip": null,
      "layout": "IPY_MODEL_97068be13ef44d77bd7bb46a29d2b819",
      "max": 269752043,
      "min": 0,
      "orientation": "horizontal",
      "style": "IPY_MODEL_b61f8c4f8f47499aa6ccd776ddb47779",
      "value": 3663872
     }
    },
    "2b478833bae74def915eb5d21d0d15a6": {
     "model_module": "@jupyter-widgets/controls",
     "model_name": "DescriptionStyleModel",
     "state": {
      "_model_module": "@jupyter-widgets/controls",
      "_model_module_version": "1.5.0",
      "_model_name": "DescriptionStyleModel",
      "_view_count": null,
      "_view_module": "@jupyter-widgets/base",
      "_view_module_version": "1.2.0",
      "_view_name": "StyleView",
      "description_width": ""
     }
    },
    "2baae9a5ff9a423c87f890ab5265dcc1": {
     "model_module": "@jupyter-widgets/controls",
     "model_name": "HBoxModel",
     "state": {
      "_dom_classes": [],
      "_model_module": "@jupyter-widgets/controls",
      "_model_module_version": "1.5.0",
      "_model_name": "HBoxModel",
      "_view_count": null,
      "_view_module": "@jupyter-widgets/controls",
      "_view_module_version": "1.5.0",
      "_view_name": "HBoxView",
      "box_style": "",
      "children": [
       "IPY_MODEL_f0495d522ef5433998c0a8a1f2059b8c",
       "IPY_MODEL_1ad847fa245d4f46bdc77b8a1dea661e",
       "IPY_MODEL_00e8682fbce24272b567151d703a969d"
      ],
      "layout": "IPY_MODEL_f1d2ad786e8740aba9cda99d52181c2b"
     }
    },
    "408e3c6b5227400ebeb4f8082bf05837": {
     "model_module": "@jupyter-widgets/base",
     "model_name": "LayoutModel",
     "state": {
      "_model_module": "@jupyter-widgets/base",
      "_model_module_version": "1.2.0",
      "_model_name": "LayoutModel",
      "_view_count": null,
      "_view_module": "@jupyter-widgets/base",
      "_view_module_version": "1.2.0",
      "_view_name": "LayoutView",
      "align_content": null,
      "align_items": null,
      "align_self": null,
      "border": null,
      "bottom": null,
      "display": null,
      "flex": null,
      "flex_flow": null,
      "grid_area": null,
      "grid_auto_columns": null,
      "grid_auto_flow": null,
      "grid_auto_rows": null,
      "grid_column": null,
      "grid_gap": null,
      "grid_row": null,
      "grid_template_areas": null,
      "grid_template_columns": null,
      "grid_template_rows": null,
      "height": null,
      "justify_content": null,
      "justify_items": null,
      "left": null,
      "margin": null,
      "max_height": null,
      "max_width": null,
      "min_height": null,
      "min_width": null,
      "object_fit": null,
      "object_position": null,
      "order": null,
      "overflow": null,
      "overflow_x": null,
      "overflow_y": null,
      "padding": null,
      "right": null,
      "top": null,
      "visibility": null,
      "width": null
     }
    },
    "64fb1a995bc649749a8f6b44c06d1578": {
     "model_module": "@jupyter-widgets/controls",
     "model_name": "DescriptionStyleModel",
     "state": {
      "_model_module": "@jupyter-widgets/controls",
      "_model_module_version": "1.5.0",
      "_model_name": "DescriptionStyleModel",
      "_view_count": null,
      "_view_module": "@jupyter-widgets/base",
      "_view_module_version": "1.2.0",
      "_view_name": "StyleView",
      "description_width": ""
     }
    },
    "66b1e72b76584f418bbc62bd201d08aa": {
     "model_module": "@jupyter-widgets/base",
     "model_name": "LayoutModel",
     "state": {
      "_model_module": "@jupyter-widgets/base",
      "_model_module_version": "1.2.0",
      "_model_name": "LayoutModel",
      "_view_count": null,
      "_view_module": "@jupyter-widgets/base",
      "_view_module_version": "1.2.0",
      "_view_name": "LayoutView",
      "align_content": null,
      "align_items": null,
      "align_self": null,
      "border": null,
      "bottom": null,
      "display": null,
      "flex": null,
      "flex_flow": null,
      "grid_area": null,
      "grid_auto_columns": null,
      "grid_auto_flow": null,
      "grid_auto_rows": null,
      "grid_column": null,
      "grid_gap": null,
      "grid_row": null,
      "grid_template_areas": null,
      "grid_template_columns": null,
      "grid_template_rows": null,
      "height": null,
      "justify_content": null,
      "justify_items": null,
      "left": null,
      "margin": null,
      "max_height": null,
      "max_width": null,
      "min_height": null,
      "min_width": null,
      "object_fit": null,
      "object_position": null,
      "order": null,
      "overflow": null,
      "overflow_x": null,
      "overflow_y": null,
      "padding": null,
      "right": null,
      "top": null,
      "visibility": null,
      "width": null
     }
    },
    "675190f264754708a91db47dc5544081": {
     "model_module": "@jupyter-widgets/base",
     "model_name": "LayoutModel",
     "state": {
      "_model_module": "@jupyter-widgets/base",
      "_model_module_version": "1.2.0",
      "_model_name": "LayoutModel",
      "_view_count": null,
      "_view_module": "@jupyter-widgets/base",
      "_view_module_version": "1.2.0",
      "_view_name": "LayoutView",
      "align_content": null,
      "align_items": null,
      "align_self": null,
      "border": null,
      "bottom": null,
      "display": null,
      "flex": null,
      "flex_flow": null,
      "grid_area": null,
      "grid_auto_columns": null,
      "grid_auto_flow": null,
      "grid_auto_rows": null,
      "grid_column": null,
      "grid_gap": null,
      "grid_row": null,
      "grid_template_areas": null,
      "grid_template_columns": null,
      "grid_template_rows": null,
      "height": null,
      "justify_content": null,
      "justify_items": null,
      "left": null,
      "margin": null,
      "max_height": null,
      "max_width": null,
      "min_height": null,
      "min_width": null,
      "object_fit": null,
      "object_position": null,
      "order": null,
      "overflow": null,
      "overflow_x": null,
      "overflow_y": null,
      "padding": null,
      "right": null,
      "top": null,
      "visibility": null,
      "width": null
     }
    },
    "76766feef7b4439f905629af9fd3fb8f": {
     "model_module": "@jupyter-widgets/controls",
     "model_name": "HTMLModel",
     "state": {
      "_dom_classes": [],
      "_model_module": "@jupyter-widgets/controls",
      "_model_module_version": "1.5.0",
      "_model_name": "HTMLModel",
      "_view_count": null,
      "_view_module": "@jupyter-widgets/controls",
      "_view_module_version": "1.5.0",
      "_view_name": "HTMLView",
      "description": "",
      "description_tooltip": null,
      "layout": "IPY_MODEL_097c4504e8a74181975f7f475890734c",
      "placeholder": "​",
      "style": "IPY_MODEL_64fb1a995bc649749a8f6b44c06d1578",
      "value": "Downloading:   0%"
     }
    },
    "773bd9981da2410f8f16065d496edc23": {
     "model_module": "@jupyter-widgets/controls",
     "model_name": "HBoxModel",
     "state": {
      "_dom_classes": [],
      "_model_module": "@jupyter-widgets/controls",
      "_model_module_version": "1.5.0",
      "_model_name": "HBoxModel",
      "_view_count": null,
      "_view_module": "@jupyter-widgets/controls",
      "_view_module_version": "1.5.0",
      "_view_name": "HBoxView",
      "box_style": "",
      "children": [
       "IPY_MODEL_76766feef7b4439f905629af9fd3fb8f",
       "IPY_MODEL_ca246ece09b84b41a46a5f03d948b0b3",
       "IPY_MODEL_bb8fd9f32d324209b186efad5a19bd44"
      ],
      "layout": "IPY_MODEL_88fc00e5fed240949c810c839bff49da"
     }
    },
    "88fc00e5fed240949c810c839bff49da": {
     "model_module": "@jupyter-widgets/base",
     "model_name": "LayoutModel",
     "state": {
      "_model_module": "@jupyter-widgets/base",
      "_model_module_version": "1.2.0",
      "_model_name": "LayoutModel",
      "_view_count": null,
      "_view_module": "@jupyter-widgets/base",
      "_view_module_version": "1.2.0",
      "_view_name": "LayoutView",
      "align_content": null,
      "align_items": null,
      "align_self": null,
      "border": null,
      "bottom": null,
      "display": null,
      "flex": null,
      "flex_flow": null,
      "grid_area": null,
      "grid_auto_columns": null,
      "grid_auto_flow": null,
      "grid_auto_rows": null,
      "grid_column": null,
      "grid_gap": null,
      "grid_row": null,
      "grid_template_areas": null,
      "grid_template_columns": null,
      "grid_template_rows": null,
      "height": null,
      "justify_content": null,
      "justify_items": null,
      "left": null,
      "margin": null,
      "max_height": null,
      "max_width": null,
      "min_height": null,
      "min_width": null,
      "object_fit": null,
      "object_position": null,
      "order": null,
      "overflow": null,
      "overflow_x": null,
      "overflow_y": null,
      "padding": null,
      "right": null,
      "top": null,
      "visibility": null,
      "width": null
     }
    },
    "95f2405737134c7eb3dc3f73e75f49ff": {
     "model_module": "@jupyter-widgets/base",
     "model_name": "LayoutModel",
     "state": {
      "_model_module": "@jupyter-widgets/base",
      "_model_module_version": "1.2.0",
      "_model_name": "LayoutModel",
      "_view_count": null,
      "_view_module": "@jupyter-widgets/base",
      "_view_module_version": "1.2.0",
      "_view_name": "LayoutView",
      "align_content": null,
      "align_items": null,
      "align_self": null,
      "border": null,
      "bottom": null,
      "display": null,
      "flex": null,
      "flex_flow": null,
      "grid_area": null,
      "grid_auto_columns": null,
      "grid_auto_flow": null,
      "grid_auto_rows": null,
      "grid_column": null,
      "grid_gap": null,
      "grid_row": null,
      "grid_template_areas": null,
      "grid_template_columns": null,
      "grid_template_rows": null,
      "height": null,
      "justify_content": null,
      "justify_items": null,
      "left": null,
      "margin": null,
      "max_height": null,
      "max_width": null,
      "min_height": null,
      "min_width": null,
      "object_fit": null,
      "object_position": null,
      "order": null,
      "overflow": null,
      "overflow_x": null,
      "overflow_y": null,
      "padding": null,
      "right": null,
      "top": null,
      "visibility": null,
      "width": null
     }
    },
    "97068be13ef44d77bd7bb46a29d2b819": {
     "model_module": "@jupyter-widgets/base",
     "model_name": "LayoutModel",
     "state": {
      "_model_module": "@jupyter-widgets/base",
      "_model_module_version": "1.2.0",
      "_model_name": "LayoutModel",
      "_view_count": null,
      "_view_module": "@jupyter-widgets/base",
      "_view_module_version": "1.2.0",
      "_view_name": "LayoutView",
      "align_content": null,
      "align_items": null,
      "align_self": null,
      "border": null,
      "bottom": null,
      "display": null,
      "flex": null,
      "flex_flow": null,
      "grid_area": null,
      "grid_auto_columns": null,
      "grid_auto_flow": null,
      "grid_auto_rows": null,
      "grid_column": null,
      "grid_gap": null,
      "grid_row": null,
      "grid_template_areas": null,
      "grid_template_columns": null,
      "grid_template_rows": null,
      "height": null,
      "justify_content": null,
      "justify_items": null,
      "left": null,
      "margin": null,
      "max_height": null,
      "max_width": null,
      "min_height": null,
      "min_width": null,
      "object_fit": null,
      "object_position": null,
      "order": null,
      "overflow": null,
      "overflow_x": null,
      "overflow_y": null,
      "padding": null,
      "right": null,
      "top": null,
      "visibility": null,
      "width": null
     }
    },
    "b61f8c4f8f47499aa6ccd776ddb47779": {
     "model_module": "@jupyter-widgets/controls",
     "model_name": "ProgressStyleModel",
     "state": {
      "_model_module": "@jupyter-widgets/controls",
      "_model_module_version": "1.5.0",
      "_model_name": "ProgressStyleModel",
      "_view_count": null,
      "_view_module": "@jupyter-widgets/base",
      "_view_module_version": "1.2.0",
      "_view_name": "StyleView",
      "bar_color": null,
      "description_width": ""
     }
    },
    "bb8fd9f32d324209b186efad5a19bd44": {
     "model_module": "@jupyter-widgets/controls",
     "model_name": "HTMLModel",
     "state": {
      "_dom_classes": [],
      "_model_module": "@jupyter-widgets/controls",
      "_model_module_version": "1.5.0",
      "_model_name": "HTMLModel",
      "_view_count": null,
      "_view_module": "@jupyter-widgets/controls",
      "_view_module_version": "1.5.0",
      "_view_name": "HTMLView",
      "description": "",
      "description_tooltip": null,
      "layout": "IPY_MODEL_95f2405737134c7eb3dc3f73e75f49ff",
      "placeholder": "​",
      "style": "IPY_MODEL_2b478833bae74def915eb5d21d0d15a6",
      "value": " 1.28M/270M [00:00&lt;00:20, 12.8MB/s]"
     }
    },
    "ca246ece09b84b41a46a5f03d948b0b3": {
     "model_module": "@jupyter-widgets/controls",
     "model_name": "FloatProgressModel",
     "state": {
      "_dom_classes": [],
      "_model_module": "@jupyter-widgets/controls",
      "_model_module_version": "1.5.0",
      "_model_name": "FloatProgressModel",
      "_view_count": null,
      "_view_module": "@jupyter-widgets/controls",
      "_view_module_version": "1.5.0",
      "_view_name": "ProgressView",
      "bar_style": "danger",
      "description": "",
      "description_tooltip": null,
      "layout": "IPY_MODEL_675190f264754708a91db47dc5544081",
      "max": 269752043,
      "min": 0,
      "orientation": "horizontal",
      "style": "IPY_MODEL_ea34d81bbbdb40b4846ce9f6b4fd36ca",
      "value": 1282048
     }
    },
    "cc453a9521f546d994b59dc421b4bcf4": {
     "model_module": "@jupyter-widgets/controls",
     "model_name": "DescriptionStyleModel",
     "state": {
      "_model_module": "@jupyter-widgets/controls",
      "_model_module_version": "1.5.0",
      "_model_name": "DescriptionStyleModel",
      "_view_count": null,
      "_view_module": "@jupyter-widgets/base",
      "_view_module_version": "1.2.0",
      "_view_name": "StyleView",
      "description_width": ""
     }
    },
    "ea34d81bbbdb40b4846ce9f6b4fd36ca": {
     "model_module": "@jupyter-widgets/controls",
     "model_name": "ProgressStyleModel",
     "state": {
      "_model_module": "@jupyter-widgets/controls",
      "_model_module_version": "1.5.0",
      "_model_name": "ProgressStyleModel",
      "_view_count": null,
      "_view_module": "@jupyter-widgets/base",
      "_view_module_version": "1.2.0",
      "_view_name": "StyleView",
      "bar_color": null,
      "description_width": ""
     }
    },
    "f0495d522ef5433998c0a8a1f2059b8c": {
     "model_module": "@jupyter-widgets/controls",
     "model_name": "HTMLModel",
     "state": {
      "_dom_classes": [],
      "_model_module": "@jupyter-widgets/controls",
      "_model_module_version": "1.5.0",
      "_model_name": "HTMLModel",
      "_view_count": null,
      "_view_module": "@jupyter-widgets/controls",
      "_view_module_version": "1.5.0",
      "_view_name": "HTMLView",
      "description": "",
      "description_tooltip": null,
      "layout": "IPY_MODEL_66b1e72b76584f418bbc62bd201d08aa",
      "placeholder": "​",
      "style": "IPY_MODEL_cc453a9521f546d994b59dc421b4bcf4",
      "value": "Downloading:   1%"
     }
    },
    "f1d2ad786e8740aba9cda99d52181c2b": {
     "model_module": "@jupyter-widgets/base",
     "model_name": "LayoutModel",
     "state": {
      "_model_module": "@jupyter-widgets/base",
      "_model_module_version": "1.2.0",
      "_model_name": "LayoutModel",
      "_view_count": null,
      "_view_module": "@jupyter-widgets/base",
      "_view_module_version": "1.2.0",
      "_view_name": "LayoutView",
      "align_content": null,
      "align_items": null,
      "align_self": null,
      "border": null,
      "bottom": null,
      "display": null,
      "flex": null,
      "flex_flow": null,
      "grid_area": null,
      "grid_auto_columns": null,
      "grid_auto_flow": null,
      "grid_auto_rows": null,
      "grid_column": null,
      "grid_gap": null,
      "grid_row": null,
      "grid_template_areas": null,
      "grid_template_columns": null,
      "grid_template_rows": null,
      "height": null,
      "justify_content": null,
      "justify_items": null,
      "left": null,
      "margin": null,
      "max_height": null,
      "max_width": null,
      "min_height": null,
      "min_width": null,
      "object_fit": null,
      "object_position": null,
      "order": null,
      "overflow": null,
      "overflow_x": null,
      "overflow_y": null,
      "padding": null,
      "right": null,
      "top": null,
      "visibility": null,
      "width": null
     }
    }
   }
  }
 },
 "nbformat": 4,
 "nbformat_minor": 1
}
